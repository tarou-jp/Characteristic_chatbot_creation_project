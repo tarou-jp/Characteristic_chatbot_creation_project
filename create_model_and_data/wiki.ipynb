{
 "cells": [
  {
   "cell_type": "markdown",
   "metadata": {},
   "source": [
    "wikipedia情報からキャラクターの情報を構造化してまとめたjsonファイルを作成するソースコード"
   ]
  },
  {
   "cell_type": "code",
   "execution_count": 1,
   "metadata": {},
   "outputs": [
    {
     "name": "stdout",
     "output_type": "stream",
     "text": [
      "Collecting wikipedia\n",
      "  Downloading wikipedia-1.4.0.tar.gz (27 kB)\n",
      "  Preparing metadata (setup.py): started\n",
      "  Preparing metadata (setup.py): finished with status 'done'\n",
      "Requirement already satisfied: beautifulsoup4 in c:\\users\\itohi\\anaconda3\\envs\\jouhou\\lib\\site-packages (from wikipedia) (4.12.2)\n",
      "Requirement already satisfied: requests<3.0.0,>=2.0.0 in c:\\users\\itohi\\anaconda3\\envs\\jouhou\\lib\\site-packages (from wikipedia) (2.31.0)\n",
      "Requirement already satisfied: charset-normalizer<4,>=2 in c:\\users\\itohi\\anaconda3\\envs\\jouhou\\lib\\site-packages (from requests<3.0.0,>=2.0.0->wikipedia) (3.2.0)\n",
      "Requirement already satisfied: idna<4,>=2.5 in c:\\users\\itohi\\anaconda3\\envs\\jouhou\\lib\\site-packages (from requests<3.0.0,>=2.0.0->wikipedia) (3.4)\n",
      "Requirement already satisfied: urllib3<3,>=1.21.1 in c:\\users\\itohi\\anaconda3\\envs\\jouhou\\lib\\site-packages (from requests<3.0.0,>=2.0.0->wikipedia) (1.26.16)\n",
      "Requirement already satisfied: certifi>=2017.4.17 in c:\\users\\itohi\\anaconda3\\envs\\jouhou\\lib\\site-packages (from requests<3.0.0,>=2.0.0->wikipedia) (2023.7.22)\n",
      "Requirement already satisfied: soupsieve>1.2 in c:\\users\\itohi\\anaconda3\\envs\\jouhou\\lib\\site-packages (from beautifulsoup4->wikipedia) (2.5)\n",
      "Building wheels for collected packages: wikipedia\n",
      "  Building wheel for wikipedia (setup.py): started\n",
      "  Building wheel for wikipedia (setup.py): finished with status 'done'\n",
      "  Created wheel for wikipedia: filename=wikipedia-1.4.0-py3-none-any.whl size=11707 sha256=88250110ef938f4b70d1d3533d5f77a4073ee72f6426dc2d2e5f9a40b06bb0cc\n",
      "  Stored in directory: c:\\users\\itohi\\appdata\\local\\pip\\cache\\wheels\\5e\\b6\\c5\\93f3dec388ae76edc830cb42901bb0232504dfc0df02fc50de\n",
      "Successfully built wikipedia\n",
      "Installing collected packages: wikipedia\n",
      "Successfully installed wikipedia-1.4.0\n"
     ]
    },
    {
     "name": "stderr",
     "output_type": "stream",
     "text": [
      "WARNING: Ignoring invalid distribution -orch (c:\\users\\itohi\\anaconda3\\envs\\jouhou\\lib\\site-packages)\n",
      "WARNING: Ignoring invalid distribution -orch (c:\\users\\itohi\\anaconda3\\envs\\jouhou\\lib\\site-packages)\n"
     ]
    }
   ],
   "source": [
    "!pip install wikipedia"
   ]
  },
  {
   "cell_type": "code",
   "execution_count": 8,
   "metadata": {},
   "outputs": [],
   "source": [
    "import wikipedia\n",
    "\n",
    "wikipedia.set_lang(\"ja\")\n",
    "res = wikipedia.search(\"ベートーベン\")\n",
    "\n",
    "wp = wikipedia.page(res[0])\n",
    "wp_content = wp.content"
   ]
  },
  {
   "cell_type": "code",
   "execution_count": 26,
   "metadata": {},
   "outputs": [],
   "source": [
    "import re\n",
    "\n",
    "def extract_dictionary(text):\n",
    "    # パターン: '== キー ==' の形式を見つける\n",
    "    pattern = r'={2,3}\\s*(.*?)\\s*={2,3}'\n",
    "    \n",
    "    # キーの位置を見つける\n",
    "    keys = re.findall(pattern, text)\n",
    "    \n",
    "    # キーの位置を基に、次のキーの直前までをバリューとして抽出\n",
    "    positions = [match.span() for match in re.finditer(pattern, text)]\n",
    "    values = [text[positions[i][1]:positions[i + 1][0] if i + 1 < len(positions) else None].strip() for i in range(len(keys))]\n",
    "\n",
    "    if (len(values) == 0 or values[0] == \"\"):\n",
    "        return \"\"\n",
    "    \n",
    "    # print(values)\n",
    "\n",
    "    # 辞書に格納\n",
    "    # return values\n",
    "    return dict(zip(keys, values))\n",
    "\n"
   ]
  },
  {
   "cell_type": "code",
   "execution_count": 194,
   "metadata": {},
   "outputs": [],
   "source": [
    "import re\n",
    "\n",
    "def extract_hierarchy(texts):\n",
    "    hierarchy = {}\n",
    "    current_parent = None\n",
    "    current_subsection = None\n",
    "\n",
    "    for text in texts:\n",
    "        parent_match = re.search(r'^==\\s(.*?)\\s==', text)\n",
    "        subsec_match = re.search(r'^===\\s(.*?)\\s===', text)\n",
    "\n",
    "        if parent_match:\n",
    "            # 親コンテンツを処理\n",
    "            current_parent = parent_match.group(1)\n",
    "            current_subsection = None\n",
    "            parent_content = text[parent_match.end()+1:] if parent_match.end() is not None else ''\n",
    "            \n",
    "            hierarchy[current_parent] = {'content': parent_content, 'subsections': {}}\n",
    "        elif subsec_match and current_parent:\n",
    "            # サブコンテンツを処理\n",
    "            current_subsection = subsec_match.group(1)\n",
    "            subsection_content = text[subsec_match.end()+1:] if subsec_match.end() is not None else ''\n",
    "            hierarchy[current_parent]['subsections'][current_subsection] = subsection_content\n",
    "\n",
    "    return hierarchy\n"
   ]
  },
  {
   "cell_type": "code",
   "execution_count": 195,
   "metadata": {},
   "outputs": [],
   "source": [
    "wp_content_list = wp_content.split(\"\\n\\n\\n\")\n",
    "\n",
    "wp_content_list_after_scrutiny = []\n",
    "\n",
    "for content in wp_content_list:\n",
    "    wp_content_list_after_scrutiny.append(content)\n",
    "\n",
    "content_dict = extract_hierarchy(wp_content_list_after_scrutiny)\n"
   ]
  },
  {
   "cell_type": "code",
   "execution_count": 193,
   "metadata": {},
   "outputs": [],
   "source": [
    "import json\n",
    "\n",
    "with open(\"wiki.json\",\"w\") as f:\n",
    "    json.dump(content_dict,f,ensure_ascii=False)"
   ]
  }
 ],
 "metadata": {
  "kernelspec": {
   "display_name": "jouhou",
   "language": "python",
   "name": "python3"
  },
  "language_info": {
   "codemirror_mode": {
    "name": "ipython",
    "version": 3
   },
   "file_extension": ".py",
   "mimetype": "text/x-python",
   "name": "python",
   "nbconvert_exporter": "python",
   "pygments_lexer": "ipython3",
   "version": "3.10.12"
  }
 },
 "nbformat": 4,
 "nbformat_minor": 2
}
