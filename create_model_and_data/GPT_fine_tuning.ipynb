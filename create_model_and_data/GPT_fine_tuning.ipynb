{
 "cells": [
  {
   "cell_type": "markdown",
   "metadata": {},
   "source": [
    "chat_gptをファインチューニングするためのソースコード"
   ]
  },
  {
   "cell_type": "code",
   "execution_count": null,
   "metadata": {},
   "outputs": [],
   "source": [
    "import openai\n",
    "openai.api_key = \"-------伏字-------\"\n",
    "\n",
    "openai.File.create(\n",
    "    file = open(r\"tukuyomi_raw_dialogue.jsonl\",\"rb\"),\n",
    "    purpose = \"fine-tune\"\n",
    ")"
   ]
  },
  {
   "cell_type": "code",
   "execution_count": null,
   "metadata": {},
   "outputs": [],
   "source": [
    "openai.FineTuningJob.create(\n",
    "    training_file=\"file-9oSrjyAmmKPcTAaAiQgUeu7J\",\n",
    "    model=\"gpt-3.5-turbo\"\n",
    ")"
   ]
  },
  {
   "cell_type": "code",
   "execution_count": null,
   "metadata": {},
   "outputs": [],
   "source": [
    "openai.FineTuningJob.cancel(\"ftjob-RuI13rvbgWFA2nwNts4oPPDH\")"
   ]
  },
  {
   "cell_type": "code",
   "execution_count": null,
   "metadata": {},
   "outputs": [],
   "source": [
    "openai.FineTuningJob.list(limit=10)"
   ]
  },
  {
   "cell_type": "markdown",
   "metadata": {},
   "source": [
    "7skOajGh　ラブひな　発話者無制限　(マンガラブひな内のすべてのキャラクターの発話により学習させた言語モデル。)\n",
    "80slG7vT　ラブひな　発話者制限対話　(マンガラブひな内の特定のキャラクターが行った会話文により学習させた言語モデル。)\n",
    "82s44N7K　ラブひな　発話者制限セリフ (マンガラブひな内の特定のキャラクターの発話により学習させた言語モデル。)\n",
    "85f7TbF3　ノゲノラ　空　生データ対話 (アニメノーゲームノーラーフ内の特定のキャラクターが行った会話文により学習させた言語モデル)\n",
    "85lURhNd　ノゲノラ　空　つくよみ学習データによる疑似対話データ使用　(アニメノーゲームノーラーフ内の特定のキャラの疑似データを用いて学習させた言語モデル)\n",
    "85lemefu　ノゲノラ　ステフ　生データ対話 (アニメノーゲームノーラーフ内の特定のキャラクターが行った会話文により学習させた言語モデル)\n",
    "85n5ocR7　ノゲノラ　ステフ　ツクヨミ増強　\n",
    "85pOJKua  ノゲノラ　ステフ　ツクヨミ＋お嬢様増強\n",
    "87SVIe7y　ノゲノラ　ステフ　ツクヨミ＋お嬢様増強＋生データ\n",
    "87ZTVITY　ノゲノラ　ステフ　ツクヨミ＋お嬢様増強＋厳選データ\n",
    "88gz3LDG ノゲノラ　ステフ　ツクヨミ＋お嬢様増+長文生成タスク\n",
    "88py3vQx　topic gate (llamaindexにより検索されてきたテキストをプロンプトに挿入させるかを判断する言語モデル)\n",
    "8HR07K1M　topic gate タスク サンプル数100 (llamaindexにより検索されてきたテキストをプロンプトに挿入させるかを判断する言語モデル)"
   ]
  }
 ],
 "metadata": {
  "kernelspec": {
   "display_name": "jouhou",
   "language": "python",
   "name": "python3"
  },
  "language_info": {
   "codemirror_mode": {
    "name": "ipython",
    "version": 3
   },
   "file_extension": ".py",
   "mimetype": "text/x-python",
   "name": "python",
   "nbconvert_exporter": "python",
   "pygments_lexer": "ipython3",
   "version": "3.10.12"
  },
  "orig_nbformat": 4
 },
 "nbformat": 4,
 "nbformat_minor": 2
}
