{
 "cells": [
  {
   "cell_type": "markdown",
   "metadata": {},
   "source": [
    "topic_gate(llamaindexを用いたdb検索の結果をプロンプトに挿入するかを判断する言語モデル。)"
   ]
  },
  {
   "cell_type": "code",
   "execution_count": null,
   "metadata": {},
   "outputs": [],
   "source": [
    "dialogue_list = []\n",
    "\n",
    "with open(\"topicgate用.txt\",\"r\") as f:\n",
    "    row = []\n",
    "    for line in f:\n",
    "        row = line.split(\"\\t\")\n",
    "        row[1] = row[1][:-1]\n",
    "        dialogue_list.append(row)"
   ]
  },
  {
   "cell_type": "markdown",
   "metadata": {},
   "source": [
    "pythonで作る対話システム配布コーパスを別会話ごとに区切る"
   ]
  },
  {
   "cell_type": "code",
   "execution_count": null,
   "metadata": {},
   "outputs": [],
   "source": [
    "splited_dialogue_list = []\n",
    "\n",
    "dialogues = []\n",
    "for i in range(1,len(dialogue_list)-1):\n",
    "    if (dialogue_list[i-1][1] != dialogue_list[i][0]):\n",
    "        splited_dialogue_list.append(dialogues)\n",
    "        dialogues = []\n",
    "    else:\n",
    "        dialogues.append(dialogue_list[i-1])"
   ]
  },
  {
   "cell_type": "code",
   "execution_count": null,
   "metadata": {},
   "outputs": [],
   "source": [
    "with open(\"dialogue_splited_by_topic.txt\",\"w\") as f:\n",
    "    for row1 in splited_dialogue_list:\n",
    "        for row2 in row1:\n",
    "            f.write(f\"{row2[0]}\\t{row2[1]}\\n\")\n",
    "        f.write(\"\\n\\n\")"
   ]
  },
  {
   "cell_type": "markdown",
   "metadata": {},
   "source": [
    "topicラベルが付与されたコーパスから訓練用データを作成。\n",
    "\n",
    "you will be shown 1 Query Sentence and SOME Topic Options. Please read, memorize, and understand given materials, then complete the task under the guidance of Task Introduction.\n",
    "\n",
    "Query Sentence:\n",
    "\n",
    "Topic Options:\n",
    "\n",
    "Latest Topic:\n",
    "\n",
    "\n",
    "From the Topic choices, select one or more topics that are relevant to the Query Sentence. Latest Topic is the topic of the most recent conversation. If the conversations are consecutive, it inherits the topic of the most recent conversation. If the appropriate topic does not exist in the topic options, create a new topic and select the NOTO Option. The contents of the options are not reported except for the NOTO option, but only the number of the selected option as a '#' delimited string. For example, if topic options N and M are selected, the output would be: #N#M. However, when NOTO option is selected, the new label you created should be output instead of the option number. That is, the output will look like this: #N#M#0:NEW_TOPIC task Query Sentence, the number of the selected option must be greater than 0 and must not exceed the total number of topic options NUM."
   ]
  },
  {
   "cell_type": "code",
   "execution_count": null,
   "metadata": {},
   "outputs": [],
   "source": [
    "prompt = \"\"\"\n",
    "you will be shown 1 Query Sentence, SOME Topic Options, Latest Topic, Conversation History. Please read, memorize, and understand given materials, then complete the task under the guidance of Task Introduction.\n",
    "\n",
    "Query Sentence:\n",
    "\n",
    "Topic Options:\n",
    "\n",
    "Latest Topic:\n",
    "\n",
    "Conversation History:\n",
    "\n",
    "\n",
    "From the Topic choices, select one or more topics that are relevant to Query Sentence and Conversation History. Latest Topic is the topic of the most recent conversation. If the conversations are consecutive, it inherits the topic of the most recent conversation. If the appropriate topic does not exist in the topic options, create a new topic and select the NOTO Option. The contents of the options are not reported except for the NOTO option, but only the number of the selected option as a '#' delimited string. For example, if topic options N and M are selected, the output would be: #N#M. However, when NOTO option is selected, the new label you created should be output instead of the option number. That is, the output will look like this: #N#M#0:NEW_TOPIC task Query Sentence, the number of the selected option must be greater than 0 and must not exceed the total number of topic options NUM.\n",
    "\"\"\""
   ]
  },
  {
   "cell_type": "code",
   "execution_count": null,
   "metadata": {},
   "outputs": [],
   "source": [
    "import ast\n",
    "\n",
    "dialogue_list = []\n",
    "\n",
    "with open(\"dialogue_splited_by_topic_hold_label.txt\",\"r\") as f:\n",
    "    for line in f:\n",
    "        parts = line[:-1].split(\",\", 2)\n",
    "        if (len(parts) == 3):\n",
    "            topic_list = parts[2]\n",
    "            topic_list = topic_list[1:-1].strip()\n",
    "            topic_list = topic_list.split(\",\")\n",
    "            parts[2] = topic_list\n",
    "            dialogue_list.append(parts)\n",
    "        else:\n",
    "            dialogue_list.append([])"
   ]
  },
  {
   "cell_type": "code",
   "execution_count": null,
   "metadata": {},
   "outputs": [],
   "source": [
    "print(dialogue_list)"
   ]
  },
  {
   "cell_type": "code",
   "execution_count": null,
   "metadata": {},
   "outputs": [],
   "source": [
    "topic_option = {\"(0)NOTO.None of the others\":0}\n",
    "traning_data_jsons = []\n",
    "\n",
    "# 新しいtopic作成時のID付与に使用する\n",
    "count = 1\n",
    "# 各行で選択されているtopicのidが代入されるリスト\n",
    "selected_option_id_list = []\n",
    "# 上リスト内に入るIDが一時的に代入される\n",
    "selected_option_id = 0\n",
    "# NOTOが選択された際にその内容を格納する\n",
    "NOTO_topic_list = []\n",
    "# NOTOが選択された際にその内容を新しいトピックに登録してIDを格納する\n",
    "NOTO_topic_id_list = []\n",
    "# user_input作成時に挿入するtopic_option\n",
    "topic_option_input = \"\"\n",
    "# 言語モデルの応答\n",
    "response = \"\"\n",
    "# ひとつ前の会話の言語モデルの応答を格納。Latest Topicを作成するため。\n",
    "pre_response = \"\"\n",
    "# 会話が途切れるまでの会話を記録\n",
    "conversation_history = \"\"\n",
    "# チャットボットが直前に作った回答を保存\n",
    "pre_chat_bot_answer = \"\"\n",
    "# 現在の会話のトピックID\n",
    "latest_topic = \"\"\n",
    "# 直近の会話のトピックID\n",
    "pre_latest_topic = \"\"\n",
    "\n",
    "for row in dialogue_list:\n",
    "    json_elm = {}\n",
    "    selected_option_id_list = []\n",
    "    NOTO_topic_list = []\n",
    "    NOTO_topic_id_list = []\n",
    "    if len(row) == 3:\n",
    "        for hold_topic in row[2]:\n",
    "            hold_topic = hold_topic.strip()\n",
    "            topic_list = [key for key,value in topic_option.items()]\n",
    "            if (hold_topic not in topic_list):\n",
    "                NOTO_topic_list.append(hold_topic)\n",
    "                topic_option[hold_topic] = count\n",
    "                NOTO_topic_id_list.append(count)\n",
    "                count += 1\n",
    "                selected_option_id = 0\n",
    "                # print(hold_topic)\n",
    "            else:\n",
    "                # print(\"1\")\n",
    "                selected_option_id = topic_option[hold_topic]\n",
    "            selected_option_id_list.append(selected_option_id)\n",
    "        topic_option_input = \"\"\n",
    "        for key,value in topic_option.items():\n",
    "            if key not in NOTO_topic_list:\n",
    "                one_topic = f\"({value}):{key}\"\n",
    "                topic_option_input = f\"{topic_option_input}{one_topic}\\n\"\n",
    "        response = \"\"\n",
    "        NOTO_count = 0\n",
    "        latest_topic = \"\"\n",
    "        for topic_elm in selected_option_id_list:\n",
    "            if (topic_elm != 0):\n",
    "                response += f\"#{topic_elm}\"\n",
    "                latest_topic += f\"#{topic_elm}\"\n",
    "            else:\n",
    "                response += f\"#0:{NOTO_topic_list[NOTO_count]}\"\n",
    "                latest_topic += f\"#{NOTO_topic_id_list[NOTO_count]}\"\n",
    "                NOTO_count += 1\n",
    "        # print(topic_option_input)\n",
    "        query = f\"\"\"\n",
    "Query Sentence:\n",
    "{pre_chat_bot_answer},{row[0]}\n",
    "\n",
    "Topic Options:\n",
    "{topic_option_input}\n",
    "\n",
    "Latest Topic:\n",
    "{pre_latest_topic}\n",
    "\n",
    "Conversation History:\n",
    "{conversation_history}\n",
    "    \"\"\"\n",
    "        json_elm = {\"messages\": [{\"role\": \"system\", \"content\": prompt}, {\"role\": \"user\", \"content\":query}, {\"role\": \"assistant\", \"content\": response}]}\n",
    "        traning_data_jsons.append(json_elm)\n",
    "        pre_response = response\n",
    "        pre_latest_topic = latest_topic\n",
    "        conversation_history += f\"{row[0]},{row[1]}\\n\"\n",
    "        pre_chat_bot_answer = row[1]\n",
    "    else:\n",
    "        conversation_history = \"\"\n",
    "    "
   ]
  },
  {
   "cell_type": "code",
   "execution_count": null,
   "metadata": {},
   "outputs": [],
   "source": [
    "import json\n",
    "\n",
    "with open(r\"gpt_train_jsonl\\traning_data_for_topic_gate.jsonl\",\"w\") as f:\n",
    "    for row in traning_data_jsons:\n",
    "        # print(row)\n",
    "        json.dump(row,f,ensure_ascii=False)\n",
    "        f.write(\"\\n\")\n"
   ]
  }
 ],
 "metadata": {
  "kernelspec": {
   "display_name": "jouhou",
   "language": "python",
   "name": "python3"
  },
  "language_info": {
   "codemirror_mode": {
    "name": "ipython",
    "version": 3
   },
   "file_extension": ".py",
   "mimetype": "text/x-python",
   "name": "python",
   "nbconvert_exporter": "python",
   "pygments_lexer": "ipython3",
   "version": "3.10.12"
  }
 },
 "nbformat": 4,
 "nbformat_minor": 2
}
