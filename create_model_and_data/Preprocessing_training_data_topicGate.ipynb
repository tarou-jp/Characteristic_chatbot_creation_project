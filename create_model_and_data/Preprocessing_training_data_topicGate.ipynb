{
 "cells": [
  {
   "cell_type": "markdown",
   "metadata": {},
   "source": [
    "topic_gate(llamaindexを用いたdb検索の結果をプロンプトに挿入するかを判断する言語モデル。)"
   ]
  },
  {
   "cell_type": "code",
   "execution_count": 103,
   "metadata": {},
   "outputs": [],
   "source": [
    "dialogue_list = []\n",
    "\n",
    "with open(\"topicgate用.txt\",\"r\") as f:\n",
    "    row = []\n",
    "    for line in f:\n",
    "        row = line.split(\"\\t\")\n",
    "        row[1] = row[1][:-1]\n",
    "        dialogue_list.append(row)"
   ]
  },
  {
   "cell_type": "markdown",
   "metadata": {},
   "source": [
    "pythonで作る対話システム配布コーパスを別会話ごとに区切る"
   ]
  },
  {
   "cell_type": "code",
   "execution_count": 105,
   "metadata": {},
   "outputs": [],
   "source": [
    "splited_dialogue_list = []\n",
    "\n",
    "dialogues = []\n",
    "for i in range(1,len(dialogue_list)-1):\n",
    "    if (dialogue_list[i-1][1] != dialogue_list[i][0]):\n",
    "        splited_dialogue_list.append(dialogues)\n",
    "        dialogues = []\n",
    "    else:\n",
    "        dialogues.append(dialogue_list[i-1])"
   ]
  },
  {
   "cell_type": "code",
   "execution_count": 185,
   "metadata": {},
   "outputs": [],
   "source": [
    "with open(\"dialogue_splited_by_topic.txt\",\"w\") as f:\n",
    "    for row1 in splited_dialogue_list:\n",
    "        for row2 in row1:\n",
    "            f.write(f\"{row2[0]}\\t{row2[1]}\\n\")\n",
    "        f.write(\"\\n\\n\")"
   ]
  },
  {
   "cell_type": "markdown",
   "metadata": {},
   "source": [
    "topicラベルが付与されたコーパスから訓練用データを作成。\n",
    "\n",
    "you will be shown 1 Query Sentence and SOME Topic Options. Please read, memorize, and understand given materials, then complete the task under the guidance of Task Introduction.\n",
    "\n",
    "Query Sentence:\n",
    "\n",
    "Topic Options:\n",
    "\n",
    "Latest Topic:\n",
    "\n",
    "\n",
    "From the Topic choices, select one or more topics that are relevant to the Query Sentence. Latest Topic is the topic of the most recent conversation. If the conversations are consecutive, it inherits the topic of the most recent conversation. If the appropriate topic does not exist in the topic options, create a new topic and select the NOTO Option. The contents of the options are not reported except for the NOTO option, but only the number of the selected option as a '#' delimited string. For example, if topic options N and M are selected, the output would be: #N#M. However, when NOTO option is selected, the new label you created should be output instead of the option number. That is, the output will look like this: #N#M#0:NEW_TOPIC task Query Sentence, the number of the selected option must be greater than 0 and must not exceed the total number of topic options NUM."
   ]
  },
  {
   "cell_type": "code",
   "execution_count": 234,
   "metadata": {},
   "outputs": [],
   "source": [
    "prompt = \"\"\"\n",
    "you will be shown 1 Query Sentence, SOME Topic Options, Latest Topic, Conversation History. Please read, memorize, and understand given materials, then complete the task under the guidance of Task Introduction.\n",
    "\n",
    "Query Sentence:\n",
    "\n",
    "Topic Options:\n",
    "\n",
    "Latest Topic:\n",
    "\n",
    "Conversation History:\n",
    "\n",
    "\n",
    "From the Topic choices, select one or more topics that are relevant to Query Sentence and Conversation History. Latest Topic is the topic of the most recent conversation. If the conversations are consecutive, it inherits the topic of the most recent conversation. If the appropriate topic does not exist in the topic options, create a new topic and select the NOTO Option. The contents of the options are not reported except for the NOTO option, but only the number of the selected option as a '#' delimited string. For example, if topic options N and M are selected, the output would be: #N#M. However, when NOTO option is selected, the new label you created should be output instead of the option number. That is, the output will look like this: #N#M#0:NEW_TOPIC task Query Sentence, the number of the selected option must be greater than 0 and must not exceed the total number of topic options NUM.\n",
    "\"\"\""
   ]
  },
  {
   "cell_type": "code",
   "execution_count": 238,
   "metadata": {},
   "outputs": [],
   "source": [
    "import ast\n",
    "\n",
    "dialogue_list = []\n",
    "\n",
    "with open(\"dialogue_splited_by_topic_hold_label.txt\",\"r\") as f:\n",
    "    for line in f:\n",
    "        parts = line[:-1].split(\",\", 2)\n",
    "        if (len(parts) == 3):\n",
    "            topic_list = parts[2]\n",
    "            topic_list = topic_list[1:-1].strip()\n",
    "            topic_list = topic_list.split(\",\")\n",
    "            parts[2] = topic_list\n",
    "            dialogue_list.append(parts)\n",
    "        else:\n",
    "            dialogue_list.append([])"
   ]
  },
  {
   "cell_type": "code",
   "execution_count": 202,
   "metadata": {},
   "outputs": [
    {
     "name": "stdout",
     "output_type": "stream",
     "text": [
      "[['最近はまっていることなどはありますか？', '朝ドラでしょうか。', ['趣味']], ['どんなタイトルなんですか？', 'スカーレット、です。', ['趣味', 'ドラマ']], ['みどころはどのあたりですか？', '笑えるところです。劇中の会話が漫才みたいな時があります。大阪制作らしいドラマです。', ['趣味', ' ドラマ']], ['笑えるのは良いですね、感動や悲劇などもあるのでしょうか？', '時々あります。', ['趣味', ' ドラマ']], ['70年くらい前の時代設定なんでしたっけ', '現時点の放送では、昭和34年という設定です。', ['趣味', ' ドラマ']], ['激動の時代ですね。タイトルの由来が気になります', '緋色、赤という意味で、女性初の陶芸家ということで、陶器を焼く炎と女性ということをあらわしてたと思います。', ['趣味', ' ドラマ']], ['とても楽しそうな話ですね、興味が湧いてきました', '近々、ヒロインが結婚するような気配があります。', ['趣味', ' ドラマ']], ['それはひとつの佳境ですね、ヒロインは戸田エリカさんでしたっけ？', 'そうです。でも戸田さんは恵梨香で、エリカは今問題になってる人ですね。', ['趣味', ' ドラマ', ' 女優']], ['そうでしたね！どちらも素敵な女優さんなのに残念です', '確か、今日昼の情報番組でやってたと思うんですけど、大河ドラマ降板が決まったようです。', ['趣味', ' ドラマ', ' 女優']], [], ['こんばんは、よろしくお願いいたします', 'こんばんは、こちらこそよろしくお願いいたします！', ['挨拶']], ['昨日、今日と暖かい気候でしたね。どこかへおでかけされましたか？', 'はい、昨日は友人たちと、市内で開催されているイベントに行き、アクセサリーなどを購入しました。', ['挨拶', ' 天気']], ['楽しそうなイベントですね、どんなお店が出ていましたか？', '全国各地で手作りのアクセサリーや衣類、陶器などを売っている人たちが集まっていました。素敵なものばかりでした。', ['挨拶', ' 天気', ' 趣味', ' イベント']], ['そんなイベントがあるんですね、私も行きたかったです', 'お近くでそういうイベントがあるといいですね！', ['挨拶', ' 天気', ' 趣味', ' イベント']], ['ぜひさがしてみようと思います！最近はインターネットショッピングばかりなので物に触れたいです。', 'そうなんです！普段ネットでばかり見ているせいか余計に楽しく感じられましたよ。', ['挨拶', ' 天気', ' 趣味', ' イベント']], ['便利さ以外の、心の豊かさを感じられる時間は必要ですよね', 'そう思います。例えば私は音楽を聴きにライブハウスに行きますが、お金はかかるんですがすごく大事な時間です。', ['挨拶', ' 天気', ' 趣味', ' イベント']], ['ライブいいですね！わたしも以前はフェスなど行きました。どんなアーティストが好きですか？', 'メジャーのかただと、オリジナルラブの田島さんや、birdなどが好きです。', ['挨拶', ' 天気', ' 趣味', ' イベント', ' 音楽']], ['大人なジャンルですね、ライブハウスだと結構近くで聴けますか？', 'そうですね、普段はインディーズのバンドを見ますが、手を伸ばせば届く距離ですよ。', ['挨拶', ' 天気', ' 趣味', ' イベント', ' 音楽']], ['間近で聴けるなんて至福ですね、インディーズで好きなのは何というアーティストですか？', 'あまりにも無名なので内緒にさせてくださいませ。でもいろいろ、おそらくお住いの地域にも良いバンドがいると思うので、ぜひ足を運んでみてください。', ['挨拶', ' 天気', ' 趣味', ' イベント', ' 音楽']], [], ['なるほど。だから開始されなかったのですかね。今ままでの流れでいくと開始していただけるものと思いました。', 'すみません。何か最近はまっている事はありますか？', ['ドラマ', '趣味']], ['ハマっていると言うほどではありませんが、朝ドラに興味、やっぱりハマってます。', '朝ドラですか。私は見ていないのですが、戸田恵梨香さんのですか？', ['ドラマ', '趣味']], ['はい、そうです。', '確か陶芸関係のお話でしたよね？', ['ドラマ', '趣味', '女優']], ['そうです！', '朝ドラは見ていませんが、戸田恵梨香さんってお綺麗ですよね。', ['ドラマ', '趣味', '女優']], ['そうですね。でも今、ドラマでの設定は21歳なので、ちょっと厳しいなと。', 'そうなんですか。それは確かにちょっと厳しいかもしれませんね。でも実年齢はいくつなんですか？', ['ドラマ', '趣味', '女優']], ['31歳だったと思います。', '31歳で21歳役はさすがに戸田恵梨香でも厳しいですね。', ['ドラマ', '趣味', '女優']], ['はい、しかも彼女は背が高いので。同級生役で大島優子さんが出てますが、こちらはそんなに違和感ないんですけどね。', 'あー、大島優子さんにそれ程違和感がないのは分かる気がします。他はどんな俳優が出ていますか？', ['ドラマ', '趣味', '女優', 'キャスティング']], ['北村一輝さん、富田靖子さん、イッセー尾形さん、その他、吉本の芸人さんもけっこう出てます。', '吉本の芸人さんですか。結構色んな人が出てるんですね。その中でどの俳優が一番好きですか？', ['ドラマ', '趣味', '女優', 'キャスティング']], ['好きというのはないんですが、北村一輝さんが、二枚目だと思ってたんですが、コテコテの関西のおっちゃんを演じていて笑えます。', 'そうなんですか。北村一輝さん、いい俳優さんですよね。', ['ドラマ', '趣味', '女優', 'キャスティング']], ['はい、いいですよね。他にもドラマにはいろいろな役柄がありますけど、今回の設定は特に面白いです。', '面白い設定のドラマは見ていても飽きませんよね。', ['ドラマ', '趣味', '女優', 'キャスティング']], ['そうですね、話がどう展開するのか楽しみです。', '展開が予想できないと、より引き込まれますよね。', ['ドラマ', '趣味', '女優', 'キャスティング']], [], ['よろしくお願いいたします。', 'こちらこそ、よろしくお願いいたします。', ['挨拶']], ['今日は暖かいですね。', 'そうですね。日向に出ると日焼けしそうなくらいです。', ['挨拶', '天気']], ['これだけ暑いと秋をすっとばして、いきなり冬が来そうですね。', 'あり得ますね。あんまりにもいきなりだと冬眠したくなるかも知れません…', ['挨拶', '天気', '季節']], ['海水温も高いので台風も勢いがあるのでしょうね。', '関東方面の台風被害にはびっくりしました。はやく被災者の方々が安心して暮らせるようになると良いのですが。', ['挨拶', '天気', '季節', '災害']], ['毎年あんなのが来るかと思うと不安ですよね。', 'そうですね。普通の生活が出来ないとなるとストレスが大きそうですし。', ['挨拶', '天気', '季節', '災害']], ['過去にはもっと大きいのが猛烈な被害を出してますしね。', '近年は大規模なものが増えている気がしますね。大阪も、未だにブルーシートを被せたままの家があるとか。', ['挨拶', '天気', '季節', '災害']], ['そうそう、台風じゃなくても集中豪雨の被害を受けた広島とか福岡も。', '全国的に被災地が広がってますね…', ['挨拶', '天気', '季節', '災害']], ['そうですね、都会とか地方とか関係ないですものね。', 'うちは犬がいるので、避難する必要が生じても避難所に拒否されるかも知れないことが心配です。', ['挨拶', '天気', '季節', '災害', '避難']], ['大型犬ですか？', '小型犬です。5キロちょっとですね。', ['挨拶', '天気', '季節', '災害', '避難']], [], ['こんにちは、よろしくおねがいします。', 'こんにちは、よろしくおねがいします。', ['挨拶']], ['天気はいかがですか？', '雨は降っていませんが、降りそうな天気ですね。', ['挨拶', '天候']], ['こちらもそうです。', '最近台風がありましたが、大丈夫でしたか?', ['挨拶', '天候']], ['私も大丈夫だったんですが、ニュースで見ると大変そうでしたね。', '武蔵小杉があんなことになるとは、ビックリしましたね。', ['挨拶', '天候', '台風', '災害']], ['そうですね。これからも台風が来るかもというニュースを見たんですが、どうなのでしょうかね?', 'そう、ここ数年、台風が一段と大型化しているようで心配ですね。', ['挨拶', '天候', '台風', '災害']], ['そうですね。何か備えておこうかと考えてます。', '天皇陛下の即位の儀ってご覧になりました？', ['挨拶', '天候', '台風', '災害']], ['今日やってた儀式ですか?', 'そうです、もう終わったんでしょうね。', ['挨拶', '天候', '台風', '災害', '儀式']], ['どうでしょう。先程少しだけ見ただけです。', 'あ、今やってますね。ネットで中継してる。', ['挨拶', '天候', '台風', '災害', '儀式']], ['そうなんですね。雨が降っていたのが残念ですね。', 'そう、10月を選んだのは天候が良いからだったでしょうにね。', ['挨拶', '天候', '台風', '災害', '儀式']], ['でもちょっと見ただけでも美しさは感じました。', 'まあ、屋内の儀式ですからね。', ['挨拶', '天候', '台風', '災害', '儀式']], [], ['よろしくお願いいたします。', 'よろしくお願いします。', ['挨拶']], ['今日、ちょっと寒くないですか？', 'いえ、こちらは晴れているので暖かいです。', ['挨拶', '天気']], ['考えたら、10月ももうすぐ終わりですものね。', '今年もあと少しとなりました。何か良いことありましたか？', ['挨拶', '天気']], ['地元のソフトバンクホークスが優勝しそうなことですね。', '野球がお好きなのですか？', ['挨拶', '天気', 'スポーツ']], ['優勝に絡みそうなときは気になりますね。', 'スポーツはする方ですか？それとも観る方ですか？', ['挨拶', '天気', 'スポーツ']], ['観るほう専門ですね。', '他に御覧になるスポーツはありますか？', ['挨拶', '天気', 'スポーツ']], ['サッカーの代表選とかはたまに観ますね。', '実際にスタジアムで観ることはありますか？', ['挨拶', '天気', 'スポーツ']], ['いえ、サッカーは遠いので行きませんが、野球はたまにドームに行きますよ。', '私はドームへ行ったことはないですが、テレビで観るのとは迫力が違うのでしょうね。', ['挨拶', '天気', 'スポーツ']], ['そうですね、応援の音はテレビでは伝わりませんが、実際はすごいですね。', '他に何か趣味などございますか？', ['挨拶', '天気', 'スポーツ']], ['食べ歩きぐらいですが、最近は控えています。', 'オススメのお店はありますか？', ['挨拶', '天気', 'スポーツ', '趣味', '食事']], ['なんだかんだいっても、結局は身近なチェーン店が安くて旨いってなりますね。', '回転寿司とか好きですか？', ['挨拶', '天気', 'スポーツ', '趣味', '食事']], [], ['よろしくお願いいたします。', 'よろしくお願いします。', ['挨拶']], ['今日寒くないですか？', '寒いですね。雨も降ってますし。', ['挨拶', '天候']], ['なのに台風が来るとかおかしいですよね。', 'そうですね。今年の台風は多い気がします。', ['挨拶', '天候', '台風']], ['こんな感じで毎年来られたらたまらないですよね？', 'autumnさんのところは台風の被害はありませんでしたか？', ['挨拶', '天候', '台風']], ['なんとか無事でした。', 'それならよかったですね！ニュースを見るのが辛くなりますよね。', ['挨拶', '天候', '台風']], ['そうそう、そちらはいかがでしたか？', 'こちらは反れてくれたので、雨風が強いだけで大丈夫でした。', ['挨拶', '天候', '台風']], ['直撃の動画がSNSにあがってますけど、車が横転したりしてますものね。', '子供たちがニュースを見て怖がっていました。', ['挨拶', '天候', '台風', '災害']], ['あれなら大人でも怖いですね。地震雷火事おやじとはよく言ったもんです。', '週末は晴れるんですかね。早く落ち着いてほしいですね。', ['挨拶', '天候', '台風', '災害']], ['そうですね、少し冷え込むらしいのでカラッとするかもしれません。', 'この前まで暑いと思っていたのに、秋を通り越して冬になっちゃいそうですね。', ['挨拶', '天候', '台風', '災害', '季節']], [], ['よろしくお願いいたします。', 'よろしくお願いします。', ['挨拶']], ['今日寒くないですか？', '関西圏に住んでるんですが、今日は台風一過で暑かったです。', ['挨拶', ' 天候']], ['そうなんですね、九州はけっこう寒かったです。', '九州、美味しいものが沢山でいいですね～！', ['挨拶', '天候', '地域', ' 食文化']], ['そうですね、でもこちらからすると関西も羨ましいですよ。', 'そうなんですねー！関西のものといえば何でしょう？粉物かな？', ['挨拶', '天候', '地域', '食文化']], ['いろいろありますけど、味付けが絶妙ですね。醤油とか昆布が近いのかも。', 'あ、何となくわかります！ちょっと甘めですね！', ['挨拶', '天候', '地域', '食文化']], ['そうそう、関東とは全く違いますね。', 'おうどんのお汁にびっくりした覚えがあります！', ['挨拶', '天候', '地域', '食文化']], ['そうなんですよ、あの真っ黒は受け付けませんね。', '九州のお勧め料理は何ですか？', ['挨拶', '天候', '地域', '食文化']], ['なんでもおいしいといえばそれまでですけど、魚のサバですね。', 'そうなんですね！鯖！大好きです！', ['挨拶', '天候', '地域', '食文化']], ['しめ鯖もいいですけど、これからの生サバは抜群です。', '生鯖！美味しそうですね！', ['挨拶', '天候', '地域', '食文化', '食材']], ['いろんな魚を味わっても、結局一周まわってサバに戻るみたいな。', '懐の広いお魚ですね～！', ['挨拶', '天候', '地域', '食文化', '食材']], [], ['よろしくお願いいたします。', 'よろしくお願いします。', ['挨拶']], ['今日は寒かったですか？', 'うーんほんのり暑かったかもです、今半そで着てますよ。', ['挨拶', ' 天気']], ['おやおや、半そでですか？', '多分私が暑がりなんだと思うんですけどね、暑くないよって言われますから。', ['挨拶', ' 天気', ' 季節']], ['こちら九州ですけど、長そでですね。', 'ええ、こちら関西です。あれーそっちの方があったかそうですのに。', ['挨拶', ' 天気', ' 季節', '地域']], ['いえいえ、北部九州は結構寒かったりするんですよ。', '北緯が高いから…とか？', ['挨拶', '天気', '季節', '地域']], ['日本海に面してますからね。', 'こちら瀬戸内海なので、それが大きいかもですね。', ['挨拶', '天気', '季節', '地域']], ['瀬戸内は温暖ですものね。', 'あまり意識したことないんですけど、こうして話してみるとやっぱり暑いんでしょうね。', ['挨拶', '天気', '季節', '地域']], ['淡路島とか温かそうで行ってみたいです。', '近いですけど滅多に行くことないですねえ。なぜか冬にばかり行ってるので寒いです。', ['挨拶', '天気', '季節', '地域']]]\n"
     ]
    }
   ],
   "source": [
    "print(dialogue_list)"
   ]
  },
  {
   "cell_type": "code",
   "execution_count": 248,
   "metadata": {},
   "outputs": [],
   "source": [
    "topic_option = {\"(0)NOTO.None of the others\":0}\n",
    "traning_data_jsons = []\n",
    "\n",
    "# 新しいtopic作成時のID付与に使用する\n",
    "count = 1\n",
    "# 各行で選択されているtopicのidが代入されるリスト\n",
    "selected_option_id_list = []\n",
    "# 上リスト内に入るIDが一時的に代入される\n",
    "selected_option_id = 0\n",
    "# NOTOが選択された際にその内容を格納する\n",
    "NOTO_topic_list = []\n",
    "# NOTOが選択された際にその内容を新しいトピックに登録してIDを格納する\n",
    "NOTO_topic_id_list = []\n",
    "# user_input作成時に挿入するtopic_option\n",
    "topic_option_input = \"\"\n",
    "# 言語モデルの応答\n",
    "response = \"\"\n",
    "# ひとつ前の会話の言語モデルの応答を格納。Latest Topicを作成するため。\n",
    "pre_response = \"\"\n",
    "# 会話が途切れるまでの会話を記録\n",
    "conversation_history = \"\"\n",
    "# チャットボットが直前に作った回答を保存\n",
    "pre_chat_bot_answer = \"\"\n",
    "# 現在の会話のトピックID\n",
    "latest_topic = \"\"\n",
    "# 直近の会話のトピックID\n",
    "pre_latest_topic = \"\"\n",
    "\n",
    "for row in dialogue_list:\n",
    "    json_elm = {}\n",
    "    selected_option_id_list = []\n",
    "    NOTO_topic_list = []\n",
    "    NOTO_topic_id_list = []\n",
    "    if len(row) == 3:\n",
    "        for hold_topic in row[2]:\n",
    "            hold_topic = hold_topic.strip()\n",
    "            topic_list = [key for key,value in topic_option.items()]\n",
    "            if (hold_topic not in topic_list):\n",
    "                NOTO_topic_list.append(hold_topic)\n",
    "                topic_option[hold_topic] = count\n",
    "                NOTO_topic_id_list.append(count)\n",
    "                count += 1\n",
    "                selected_option_id = 0\n",
    "                # print(hold_topic)\n",
    "            else:\n",
    "                # print(\"1\")\n",
    "                selected_option_id = topic_option[hold_topic]\n",
    "            selected_option_id_list.append(selected_option_id)\n",
    "        topic_option_input = \"\"\n",
    "        for key,value in topic_option.items():\n",
    "            if key not in NOTO_topic_list:\n",
    "                one_topic = f\"({value}):{key}\"\n",
    "                topic_option_input = f\"{topic_option_input}{one_topic}\\n\"\n",
    "        response = \"\"\n",
    "        NOTO_count = 0\n",
    "        latest_topic = \"\"\n",
    "        for topic_elm in selected_option_id_list:\n",
    "            if (topic_elm != 0):\n",
    "                response += f\"#{topic_elm}\"\n",
    "                latest_topic += f\"#{topic_elm}\"\n",
    "            else:\n",
    "                response += f\"#0:{NOTO_topic_list[NOTO_count]}\"\n",
    "                latest_topic += f\"#{NOTO_topic_id_list[NOTO_count]}\"\n",
    "                NOTO_count += 1\n",
    "        # print(topic_option_input)\n",
    "        query = f\"\"\"\n",
    "Query Sentence:\n",
    "{pre_chat_bot_answer},{row[0]}\n",
    "\n",
    "Topic Options:\n",
    "{topic_option_input}\n",
    "\n",
    "Latest Topic:\n",
    "{pre_latest_topic}\n",
    "\n",
    "Conversation History:\n",
    "{conversation_history}\n",
    "    \"\"\"\n",
    "        json_elm = {\"messages\": [{\"role\": \"system\", \"content\": prompt}, {\"role\": \"user\", \"content\":query}, {\"role\": \"assistant\", \"content\": response}]}\n",
    "        traning_data_jsons.append(json_elm)\n",
    "        pre_response = response\n",
    "        pre_latest_topic = latest_topic\n",
    "        conversation_history += f\"{row[0]},{row[1]}\\n\"\n",
    "        pre_chat_bot_answer = row[1]\n",
    "    else:\n",
    "        conversation_history = \"\"\n",
    "    "
   ]
  },
  {
   "cell_type": "code",
   "execution_count": 249,
   "metadata": {},
   "outputs": [],
   "source": [
    "import json\n",
    "\n",
    "with open(r\"gpt_train_jsonl\\traning_data_for_topic_gate.jsonl\",\"w\") as f:\n",
    "    for row in traning_data_jsons:\n",
    "        # print(row)\n",
    "        json.dump(row,f,ensure_ascii=False)\n",
    "        f.write(\"\\n\")\n"
   ]
  }
 ],
 "metadata": {
  "kernelspec": {
   "display_name": "jouhou",
   "language": "python",
   "name": "python3"
  },
  "language_info": {
   "codemirror_mode": {
    "name": "ipython",
    "version": 3
   },
   "file_extension": ".py",
   "mimetype": "text/x-python",
   "name": "python",
   "nbconvert_exporter": "python",
   "pygments_lexer": "ipython3",
   "version": "3.10.12"
  }
 },
 "nbformat": 4,
 "nbformat_minor": 2
}
