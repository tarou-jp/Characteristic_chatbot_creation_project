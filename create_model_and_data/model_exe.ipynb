{
 "cells": [
  {
   "cell_type": "markdown",
   "metadata": {},
   "source": [
    "llamaindexを用いたragシステム"
   ]
  },
  {
   "cell_type": "code",
   "execution_count": null,
   "metadata": {},
   "outputs": [],
   "source": [
    "title = \"NoGame\""
   ]
  },
  {
   "cell_type": "code",
   "execution_count": null,
   "metadata": {},
   "outputs": [],
   "source": [
    "from tqdm.notebook import tqdm\n",
    "from llama_index import ServiceContext, VectorStoreIndex\n",
    "from llama_index.schema import TextNode"
   ]
  },
  {
   "cell_type": "code",
   "execution_count": null,
   "metadata": {},
   "outputs": [],
   "source": [
    "import os\n",
    "import openai\n",
    "\n",
    "# 環境変数の設定\n",
    "os.environ[\"OPENAI_API_KEY\"] = \"-------伏字-------\"\n",
    "openai.api_key = os.environ[\"OPENAI_API_KEY\"]"
   ]
  },
  {
   "cell_type": "code",
   "execution_count": null,
   "metadata": {},
   "outputs": [],
   "source": [
    "import json\n",
    "\n",
    "with open(r\"RAG\\NoGame_summary_corpus.json\",\"r\") as f:\n",
    "    corpus_ = json.load(f)\n",
    "print(corpus_)"
   ]
  },
  {
   "cell_type": "code",
   "execution_count": null,
   "metadata": {},
   "outputs": [],
   "source": [
    "serihus = []\n",
    "\n",
    "with open(\"row_anime_voices\\scenes_dialogue_re_token.txt\",\"r\") as f:\n",
    "    t = f.read()\n",
    "    serihus = t.split(\"[SEP]\")\n"
   ]
  },
  {
   "cell_type": "code",
   "execution_count": null,
   "metadata": {},
   "outputs": [],
   "source": [
    "import json\n",
    "\n",
    "with open(r\"RAG\\NoGame_summary_corpus.json\",\"r\") as f:\n",
    "    json_object = json.load(f)\n",
    "\n",
    "serihus_json = {}\n",
    "\n",
    "count = 0\n",
    "print(len(json_object))\n",
    "for key in json_object:\n",
    "    serihus_json[key] = serihus[count]\n",
    "    count += 1"
   ]
  },
  {
   "cell_type": "code",
   "execution_count": null,
   "metadata": {},
   "outputs": [],
   "source": [
    "with open(r\"RAG\\NoGame_summary_serihu_corpus.json\",\"w\",encoding=\"utf-8\") as f:\n",
    "    json.dump(serihus_json,f,ensure_ascii=False)"
   ]
  },
  {
   "cell_type": "code",
   "execution_count": null,
   "metadata": {},
   "outputs": [],
   "source": [
    "with open(r\"RAG\\NoGame_summary_serihu_corpus.json\",\"r\") as f:\n",
    "    serihus_json = json.load(f)"
   ]
  },
  {
   "cell_type": "code",
   "execution_count": null,
   "metadata": {},
   "outputs": [],
   "source": [
    "print(serihus_json)\n",
    "print(corpus_)"
   ]
  },
  {
   "cell_type": "code",
   "execution_count": null,
   "metadata": {},
   "outputs": [],
   "source": [
    "def RAG(scenario_id):\n",
    "    serihu = serihus_json[scenario_id].split(\"\\n\")\n",
    "    serihu_character = []\n",
    "    for line in serihu:\n",
    "        sep = line.split(\",\")\n",
    "        if (len(sep) == 2):        \n",
    "            if (sep[1] == \"ステフ\"):\n",
    "                serihu_character.append(sep[0])    \n",
    "    return serihu_character\n",
    "    "
   ]
  },
  {
   "cell_type": "code",
   "execution_count": null,
   "metadata": {},
   "outputs": [],
   "source": [
    "def call_finetuned_model(text,finetuned_gpt_model,character,scenario,serihu):\n",
    "    completion = openai.ChatCompletion.create(\n",
    "    # ここに学習済みモデルの model_name を入れる\n",
    "    model=finetuned_gpt_model,\n",
    "    messages=[\n",
    "        {\"role\": \"system\", \"content\": f\"\"\"\n",
    "        あなたはノーゲームノーライフという作品の{character}になりきって回答してください。\n",
    "        あなたは{character}の口調、語彙、マナーで回答してください。\n",
    "        説明は書かないでください。\n",
    "        ただ、{character}といての回答のみを行ってください。\n",
    "        あなたは{character}に関する知識をすべて知っています。\n",
    "        また、私がゲームマスターとして必要な知識をささやくので、そちらを考慮してください。\n",
    "         \n",
    "        ゲームマスター:「以下は作品内のあるシーンでの出来事(シナリオ)である。回答の参考にせよ」\n",
    "        ---------\n",
    "        {scenario}\n",
    "        ---------\n",
    "         \n",
    "        ゲームマスター:「以下は、先ほど紹介した作品内のシーンで、{character}が行った発話である。会話が不自然にならなければ再利用せよ。」\n",
    "        --------\n",
    "        {serihu}\n",
    "        --------\n",
    "\n",
    "        ゲームマスター:「回答はユーザーが退屈しないようにシナリオを参考に20字程度で答えろ」\n",
    "\n",
    "         \"\"\"},{\"role\": \"user\", \"content\": text}\n",
    "    ]\n",
    "    )\n",
    "\n",
    "    return completion.choices[0].message['content']"
   ]
  },
  {
   "cell_type": "code",
   "execution_count": null,
   "metadata": {},
   "outputs": [],
   "source": [
    "def search(query,embed_model):\n",
    "        service_context = ServiceContext.from_defaults(embed_model=embed_model)\n",
    "        nodes = [TextNode(id_=id_, text=text) for id_, text in corpus.items()] \n",
    "        index = VectorStoreIndex(\n",
    "        nodes, \n",
    "        service_context=service_context, \n",
    "        show_progress=True\n",
    "        )\n",
    "        retriever = index.as_retriever(similarity_top_k=1)\n",
    "        retrieved_nodes = retriever.retrieve(query)\n",
    "        retrieved_ids = [node.node.node_id for node in retrieved_nodes]\n",
    "        return retrieved_ids[0]\n",
    "\n",
    "finetuned = f\"local:{title}_exp_finetune\"\n",
    "search(\"空がクラミーの戴冠式に乗り込むとき、ステフはどう思た。\",finetuned)"
   ]
  },
  {
   "cell_type": "code",
   "execution_count": null,
   "metadata": {},
   "outputs": [],
   "source": [
    "def chat_character(text,character,corpus_,embed_finetuned_model_,finetuned_gpt_model_):\n",
    "    scenario_id = search(text,embed_finetuned_model_)\n",
    "    scenario_text = corpus_[scenario_id]\n",
    "    serihu = RAG(scenario_id)\n",
    "    answer = call_finetuned_model(text,finetuned_gpt_model_,character,scenario_text,serihu)\n",
    "    return answer,serihu,scenario_text\n",
    "    "
   ]
  },
  {
   "cell_type": "code",
   "execution_count": null,
   "metadata": {},
   "outputs": [],
   "source": [
    "embed_finetuned_model = f\"local:{title}_summary_exp_finetune\"\n",
    "finetuned_gpt_model = \"ft:gpt-3.5-turbo-0613:personal::85pOJKua\"\n",
    "user_input = input()\n",
    "\n",
    "\n",
    "print(chat_character(user_input,\"ステフ\",corpus_,embed_finetuned_model,finetuned_gpt_model))"
   ]
  }
 ],
 "metadata": {
  "kernelspec": {
   "display_name": "jouhou",
   "language": "python",
   "name": "python3"
  },
  "language_info": {
   "codemirror_mode": {
    "name": "ipython",
    "version": 3
   },
   "file_extension": ".py",
   "mimetype": "text/x-python",
   "name": "python",
   "nbconvert_exporter": "python",
   "pygments_lexer": "ipython3",
   "version": "3.10.12"
  }
 },
 "nbformat": 4,
 "nbformat_minor": 2
}
