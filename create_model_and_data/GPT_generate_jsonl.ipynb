{
 "cells": [
  {
   "cell_type": "markdown",
   "metadata": {},
   "source": [
    "ファインチューニング用のjsonlファイルを作成するためのコード"
   ]
  },
  {
   "cell_type": "code",
   "execution_count": null,
   "metadata": {},
   "outputs": [],
   "source": [
    "import re\n",
    "import csv\n",
    "import json"
   ]
  },
  {
   "cell_type": "code",
   "execution_count": null,
   "metadata": {},
   "outputs": [],
   "source": [
    "\n",
    "def create_character_json(q,a,character,series):\n",
    "    json_ =    {\"messages\":[{\"role\": \"system\", \"content\": f\"あなたは{series}という作品の{character}になりきって回答してください。あなたは{character}の口調、語彙、マナーで回答してください。説明は書かないでください。ただ、{character}といての回答のみを行ってください。あなたは{character}に関する知識をすべて知っています。また、私がゲームマスターとして必要な知識をささやくので、そちらを考慮してください。\"},{\"role\":\"user\",\"content\":q},{\"role\":\"assistant\",\"content\":a}]}\n",
    "    return json_\n",
    "\n",
    "def create_non_character_json(q,a):\n",
    "    json_ =    {\"messages\":[{\"role\": \"system\", \"content\": f\"ユーザーが退屈しない程度の長文で回答してください。\"},{\"role\":\"user\",\"content\":q},{\"role\":\"assistant\",\"content\":a}]}\n",
    "    return json_\n",
    "\n",
    "def create_retrieval_task_json(dialogues,topic):\n",
    "    json_ = {\"messages\":[{\"role\": \"system\", \"content\": \"\"\"\n",
    "You will be shown a NUM-line Task Conversation between multiple character. Please read , memorize ,and userstand TaskConversation , then complete the task under the guidance of Task Introduction\n",
    "\n",
    "(line 1)A:hello\n",
    "...\n",
    "(line NUM)B:bay\n",
    "\n",
    "【COT & Format Example】\n",
    "1 - Conclude all possible topics in the conversation with concise spans.\n",
    "2 - Determine the chat range of each topic.  These ranges should be a set of non-intersecting, sequentially connected end-to-end intervals.\n",
    "4 - Report topic and range result in JSON format only with the assigned keys:'topic', 'start' , 'end'.\n",
    "For example , assuming an M-line conversation talks about 'banana' from line 1 to line N, then turns to talk about 'banana'  from line 1 to line N. Thus, its task result could be:[{'topic':'banana','start':1,'end':N},{'topic':'mango','start':N,'end':M}]\n",
    "\"\"\"},{\"role\":\"user\",\"content\":dialogues},{\"role\":\"assistant\",\"content\":topic}]}\n",
    "    return json_\n",
    "\n",
    "def use_gate_task_json(q,a):\n",
    "    prompt = \"\"\"\n",
    "You are given the user's input statement and a summary statement. Please read, memorize, and userstand Task Convers, then complete the task under the guidance of Task Introduction.\n",
    "\n",
    "[user_input]\n",
    "\n",
    "[summary statement]\n",
    "\n",
    "【COT & Format Example】\n",
    "When considering responses to user_input, output 0 if you find the contents of summary statement useful, 1 otherwise.\n",
    "\"\"\"\n",
    "\n",
    "    json_ =    {\"messages\":[{\"role\": \"system\", \"content\": prompt},{\"role\":\"user\",\"content\":q},{\"role\":\"assistant\",\"content\":a}]}\n",
    "    return json_\n",
    "\n",
    "def create_character_json(q,a,character):\n",
    "    json_ =    {\"messages\":[{\"role\": \"system\", \"content\": f\"あなたはchatbotとして{character}のロールプレイを行います。私がゲームマスターとして必要な知識をささやくので、そちらを考慮してください。 ゲームマスター:「以下は{character}の説明文である。回答の参考にせよ」つくよみちゃんは、14才の少女である。特技は営業スマイルである。座右の銘は鏡花水月であり、好きな食べ物は絵にかいた餅である(本物のお餅は食べられない)。\"},{\"role\":\"user\",\"content\":q},{\"role\":\"assistant\",\"content\":a}]}\n",
    "    return json_\n"
   ]
  },
  {
   "cell_type": "code",
   "execution_count": null,
   "metadata": {},
   "outputs": [],
   "source": [
    "character_dialogues = []\n",
    "\n",
    "with open(r\"tukuyomi.csv\",\"r\") as f:\n",
    "    c = 0\n",
    "    for line in f:\n",
    "        q_r = line.split(\",\")\n",
    "        print(c)\n",
    "        character_dialogues.append([q_r[0],q_r[1]])\n",
    "        c += 1"
   ]
  },
  {
   "cell_type": "code",
   "execution_count": null,
   "metadata": {},
   "outputs": [],
   "source": [
    "with open(f\"tukuyomi_raw_dialogue.jsonl\",\"w\") as f:\n",
    "    for i in range(len(character_dialogues)):\n",
    "        row = create_character_json(character_dialogues[i][0],character_dialogues[i][1],\"つくよみちゃん\")\n",
    "        json.dump(row, f, ensure_ascii=False)\n",
    "        f.write(\"\\n\")"
   ]
  },
  {
   "cell_type": "code",
   "execution_count": null,
   "metadata": {},
   "outputs": [],
   "source": [
    "character_dialogues = []\n",
    "\n",
    "with open(r\"NoGameSpeakerLimit\\ステフ_dialogue1.csv\",\"r\") as f:\n",
    "    c = 0\n",
    "    for line in f:\n",
    "        q_r = line.split(\",\")\n",
    "        print(c)\n",
    "        character_dialogues.append([q_r[0],q_r[1]])\n",
    "        c += 1\n"
   ]
  },
  {
   "cell_type": "code",
   "execution_count": null,
   "metadata": {},
   "outputs": [],
   "source": [
    "series = \"ノーゲームノーライフ\"\n",
    "character = \"ステフ\""
   ]
  },
  {
   "cell_type": "code",
   "execution_count": null,
   "metadata": {},
   "outputs": [],
   "source": [
    "with open(f\"{character}_raw_dialogue.jsonl\",\"w\") as f:\n",
    "    for i in range(len(character_dialogues)):\n",
    "        row = create_character_json(character_dialogues[i][0],character_dialogues[i][1],character,series)\n",
    "        json.dump(row, f, ensure_ascii=False)\n",
    "        f.write(\"\\n\")"
   ]
  },
  {
   "cell_type": "code",
   "execution_count": null,
   "metadata": {},
   "outputs": [],
   "source": [
    "query = []\n",
    "response = []\n",
    "\n",
    "# つくよみとお嬢様データベースを使用したキャラの疑似会話データの読み込み\n",
    "with open(r\"NoGameSpeackerAfterProcess\\ステフ_train_data_use_つくよみ.txt\",\"r\") as f:\n",
    "    for line in f:\n",
    "        response.append(line)\n",
    "\n",
    "with open(r\"train_data_befor_changer.csv\",\"r\") as f:\n",
    "    for line in f:\n",
    "        a = line.split(\",\")\n",
    "        query.append(a[0])\n",
    "\n",
    "with open(r\"ojousamatalkscript200.csv\",\"r\") as f:\n",
    "    for line in f:\n",
    "        a = line.split(\",\")\n",
    "        query.append(a[0])\n",
    "\n",
    "with open(r\"NoGameSpeackerAfterProcess\\ステフ_train_data_use_ojousama.txt\",\"r\") as f:\n",
    "    for line in f:\n",
    "        response.append(line)\n",
    "\n",
    "    "
   ]
  },
  {
   "cell_type": "code",
   "execution_count": null,
   "metadata": {},
   "outputs": [],
   "source": [
    "with open(f\"{character}_use_つくよみ_お嬢様_topic分類タスク_長文回答タスク_dialogue.jsonl\",\"w\") as f:\n",
    "    for i in range(len(query)):\n",
    "        row = create_character_json(query[i],response[i][:-1],character,series)\n",
    "        print(row)\n",
    "        json.dump(row, f, ensure_ascii=False)\n",
    "        f.write(\"\\n\")"
   ]
  },
  {
   "cell_type": "code",
   "execution_count": null,
   "metadata": {},
   "outputs": [],
   "source": [
    "query = []\n",
    "response = []\n",
    "\n",
    "with open(r\"dialogue_pairs.txt\",\"r\") as f:\n",
    "    for line in f:\n",
    "        a = line.split(\"\\t\")\n",
    "        if (len(a[1]) >= 30):\n",
    "            query.append(a[0])\n",
    "            response.append(a[1])"
   ]
  },
  {
   "cell_type": "code",
   "execution_count": null,
   "metadata": {},
   "outputs": [],
   "source": [
    "\n",
    "\n",
    "with open(f\"{character}_use_つくよみ_お嬢様_topic分類タスク_長文回答タスク_dialogue.jsonl\",\"a\") as f:\n",
    "    for i in range(400):\n",
    "        row = create_non_character_json(query[i],response[i][:-1])\n",
    "        print(row)\n",
    "        json.dump(row, f, ensure_ascii=False)\n",
    "        f.write(\"\\n\")"
   ]
  },
  {
   "cell_type": "code",
   "execution_count": null,
   "metadata": {},
   "outputs": [],
   "source": [
    "import csv\n",
    "\n",
    "with open(r\"memo_kyutechCorpus.csv\",\"r\") as f:\n",
    "    with open(f\"{character}_use_つくよみ_お嬢様_topic分類タスク_長文回答タスク_dialogue.jsonl\",\"a\") as f1:     \n",
    "        reader = csv.reader(f)\n",
    "        for row in reader:\n",
    "            if (len(row) == 2):\n",
    "                a = create_retrieval_task_json(row[0],row[1])\n",
    "                json.dump(a, f1, ensure_ascii=False)\n",
    "                f1.write(\"\\n\")\n",
    "    "
   ]
  },
  {
   "cell_type": "code",
   "execution_count": null,
   "metadata": {},
   "outputs": [],
   "source": [
    "query = []\n",
    "response = []\n",
    "judge= []\n",
    "\n",
    "with open(r\"train_dataset\\train_dataset_for_usegate.csv\",\"r\") as f:\n",
    "    for line in f:\n",
    "        a = line.split(\",\")\n",
    "        if (len(a) == 3):\n",
    "           query.append(a[0])\n",
    "           response.append(a[1])\n",
    "           judge.append(a[2])"
   ]
  },
  {
   "cell_type": "code",
   "execution_count": null,
   "metadata": {},
   "outputs": [],
   "source": [
    "import json\n",
    "\n",
    "with open(r\"gpt_train_jsonl/dataset_for_UseGate.jsonl\",\"w\") as f:\n",
    "    for i in range(len(query)):\n",
    "        q = f\"\"\"\n",
    "[user_input]\n",
    "{query[i]}\n",
    "[summary statement]\n",
    "{response[i]}\n",
    "\"\"\"\n",
    "        row = use_gate_task_json(q,judge[i])\n",
    "        json.dump(row, f, ensure_ascii=False)\n",
    "        f.write(\"\\n\")"
   ]
  }
 ],
 "metadata": {
  "kernelspec": {
   "display_name": "jouhou",
   "language": "python",
   "name": "python3"
  },
  "language_info": {
   "codemirror_mode": {
    "name": "ipython",
    "version": 3
   },
   "file_extension": ".py",
   "mimetype": "text/x-python",
   "name": "python",
   "nbconvert_exporter": "python",
   "pygments_lexer": "ipython3",
   "version": "3.10.12"
  },
  "orig_nbformat": 4
 },
 "nbformat": 4,
 "nbformat_minor": 2
}
